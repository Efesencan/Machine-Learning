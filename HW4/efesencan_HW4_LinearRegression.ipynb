{
  "nbformat": 4,
  "nbformat_minor": 0,
  "metadata": {
    "colab": {
      "name": "efesencan_HW4_LinearRegression.ipynb",
      "provenance": [],
      "collapsed_sections": []
    },
    "kernelspec": {
      "name": "python3",
      "display_name": "Python 3"
    }
  },
  "cells": [
    {
      "cell_type": "markdown",
      "metadata": {
        "id": "DTfDIhAYYjaX",
        "colab_type": "text"
      },
      "source": [
        "# Load the dataset"
      ]
    },
    {
      "cell_type": "code",
      "metadata": {
        "id": "yFpeyxi8aqIl",
        "colab_type": "code",
        "outputId": "a3a58250-3305-493f-c9c8-4b43064005fa",
        "colab": {
          "base_uri": "https://localhost:8080/",
          "height": 294
        }
      },
      "source": [
        "import pandas as pd\n",
        "import numpy as np\n",
        "import matplotlib.pyplot as plt                   \n",
        "\n",
        "df = pd.read_csv('https://raw.githubusercontent.com/OpenClassrooms-Student-Center/Evaluate-Improve-Models/master/house_prices.csv')\n",
        "df.sample(5)"
      ],
      "execution_count": 0,
      "outputs": [
        {
          "output_type": "execute_result",
          "data": {
            "text/html": [
              "<div>\n",
              "<style scoped>\n",
              "    .dataframe tbody tr th:only-of-type {\n",
              "        vertical-align: middle;\n",
              "    }\n",
              "\n",
              "    .dataframe tbody tr th {\n",
              "        vertical-align: top;\n",
              "    }\n",
              "\n",
              "    .dataframe thead th {\n",
              "        text-align: right;\n",
              "    }\n",
              "</style>\n",
              "<table border=\"1\" class=\"dataframe\">\n",
              "  <thead>\n",
              "    <tr style=\"text-align: right;\">\n",
              "      <th></th>\n",
              "      <th>MS SubClass</th>\n",
              "      <th>Lot Frontage</th>\n",
              "      <th>Lot Area</th>\n",
              "      <th>Overall Qual</th>\n",
              "      <th>Overall Cond</th>\n",
              "      <th>Year Built</th>\n",
              "      <th>Year Remod/Add</th>\n",
              "      <th>Mas Vnr Area</th>\n",
              "      <th>BsmtFin SF 1</th>\n",
              "      <th>BsmtFin SF 2</th>\n",
              "      <th>Bsmt Unf SF</th>\n",
              "      <th>Total Bsmt SF</th>\n",
              "      <th>1st Flr SF</th>\n",
              "      <th>2nd Flr SF</th>\n",
              "      <th>Low Qual Fin SF</th>\n",
              "      <th>Gr Liv Area</th>\n",
              "      <th>Bsmt Full Bath</th>\n",
              "      <th>Bsmt Half Bath</th>\n",
              "      <th>Full Bath</th>\n",
              "      <th>Half Bath</th>\n",
              "      <th>Bedroom AbvGr</th>\n",
              "      <th>Kitchen AbvGr</th>\n",
              "      <th>TotRms AbvGrd</th>\n",
              "      <th>Fireplaces</th>\n",
              "      <th>Garage Yr Blt</th>\n",
              "      <th>Garage Cars</th>\n",
              "      <th>Garage Area</th>\n",
              "      <th>Wood Deck SF</th>\n",
              "      <th>Open Porch SF</th>\n",
              "      <th>Enclosed Porch</th>\n",
              "      <th>3Ssn Porch</th>\n",
              "      <th>Screen Porch</th>\n",
              "      <th>Pool Area</th>\n",
              "      <th>Misc Val</th>\n",
              "      <th>Mo Sold</th>\n",
              "      <th>Yr Sold</th>\n",
              "      <th>MS Zoning_A (agr)</th>\n",
              "      <th>MS Zoning_C (all)</th>\n",
              "      <th>MS Zoning_FV</th>\n",
              "      <th>MS Zoning_I (all)</th>\n",
              "      <th>...</th>\n",
              "      <th>Garage Qual_Po</th>\n",
              "      <th>Garage Qual_TA</th>\n",
              "      <th>Garage Cond_Ex</th>\n",
              "      <th>Garage Cond_Fa</th>\n",
              "      <th>Garage Cond_Gd</th>\n",
              "      <th>Garage Cond_Po</th>\n",
              "      <th>Garage Cond_TA</th>\n",
              "      <th>Paved Drive_N</th>\n",
              "      <th>Paved Drive_P</th>\n",
              "      <th>Paved Drive_Y</th>\n",
              "      <th>Pool QC_Ex</th>\n",
              "      <th>Pool QC_Fa</th>\n",
              "      <th>Pool QC_Gd</th>\n",
              "      <th>Pool QC_TA</th>\n",
              "      <th>Fence_GdPrv</th>\n",
              "      <th>Fence_GdWo</th>\n",
              "      <th>Fence_MnPrv</th>\n",
              "      <th>Fence_MnWw</th>\n",
              "      <th>Misc Feature_Elev</th>\n",
              "      <th>Misc Feature_Gar2</th>\n",
              "      <th>Misc Feature_Othr</th>\n",
              "      <th>Misc Feature_Shed</th>\n",
              "      <th>Misc Feature_TenC</th>\n",
              "      <th>Sale Type_COD</th>\n",
              "      <th>Sale Type_CWD</th>\n",
              "      <th>Sale Type_Con</th>\n",
              "      <th>Sale Type_ConLD</th>\n",
              "      <th>Sale Type_ConLI</th>\n",
              "      <th>Sale Type_ConLw</th>\n",
              "      <th>Sale Type_New</th>\n",
              "      <th>Sale Type_Oth</th>\n",
              "      <th>Sale Type_VWD</th>\n",
              "      <th>Sale Type_WD</th>\n",
              "      <th>Sale Condition_Abnorml</th>\n",
              "      <th>Sale Condition_AdjLand</th>\n",
              "      <th>Sale Condition_Alloca</th>\n",
              "      <th>Sale Condition_Family</th>\n",
              "      <th>Sale Condition_Normal</th>\n",
              "      <th>Sale Condition_Partial</th>\n",
              "      <th>SalesPrice</th>\n",
              "    </tr>\n",
              "  </thead>\n",
              "  <tbody>\n",
              "    <tr>\n",
              "      <th>1551</th>\n",
              "      <td>30</td>\n",
              "      <td>60.00000</td>\n",
              "      <td>7392</td>\n",
              "      <td>5</td>\n",
              "      <td>7</td>\n",
              "      <td>1930</td>\n",
              "      <td>1995</td>\n",
              "      <td>0.0</td>\n",
              "      <td>0.0</td>\n",
              "      <td>0.0</td>\n",
              "      <td>520.0</td>\n",
              "      <td>520.0</td>\n",
              "      <td>912</td>\n",
              "      <td>0</td>\n",
              "      <td>0</td>\n",
              "      <td>912</td>\n",
              "      <td>0.0</td>\n",
              "      <td>0.0</td>\n",
              "      <td>1</td>\n",
              "      <td>0</td>\n",
              "      <td>2</td>\n",
              "      <td>1</td>\n",
              "      <td>5</td>\n",
              "      <td>0</td>\n",
              "      <td>1934.0</td>\n",
              "      <td>1.0</td>\n",
              "      <td>360.0</td>\n",
              "      <td>0</td>\n",
              "      <td>90</td>\n",
              "      <td>0</td>\n",
              "      <td>0</td>\n",
              "      <td>0</td>\n",
              "      <td>0</td>\n",
              "      <td>0</td>\n",
              "      <td>5</td>\n",
              "      <td>2008</td>\n",
              "      <td>0</td>\n",
              "      <td>0</td>\n",
              "      <td>0</td>\n",
              "      <td>0</td>\n",
              "      <td>...</td>\n",
              "      <td>0</td>\n",
              "      <td>1</td>\n",
              "      <td>0</td>\n",
              "      <td>0</td>\n",
              "      <td>0</td>\n",
              "      <td>0</td>\n",
              "      <td>1</td>\n",
              "      <td>0</td>\n",
              "      <td>0</td>\n",
              "      <td>1</td>\n",
              "      <td>0</td>\n",
              "      <td>0</td>\n",
              "      <td>0</td>\n",
              "      <td>0</td>\n",
              "      <td>0</td>\n",
              "      <td>0</td>\n",
              "      <td>0</td>\n",
              "      <td>0</td>\n",
              "      <td>0</td>\n",
              "      <td>0</td>\n",
              "      <td>0</td>\n",
              "      <td>0</td>\n",
              "      <td>0</td>\n",
              "      <td>0</td>\n",
              "      <td>0</td>\n",
              "      <td>0</td>\n",
              "      <td>0</td>\n",
              "      <td>0</td>\n",
              "      <td>0</td>\n",
              "      <td>0</td>\n",
              "      <td>0</td>\n",
              "      <td>0</td>\n",
              "      <td>1</td>\n",
              "      <td>0</td>\n",
              "      <td>0</td>\n",
              "      <td>0</td>\n",
              "      <td>0</td>\n",
              "      <td>1</td>\n",
              "      <td>0</td>\n",
              "      <td>99500</td>\n",
              "    </tr>\n",
              "    <tr>\n",
              "      <th>492</th>\n",
              "      <td>60</td>\n",
              "      <td>69.22459</td>\n",
              "      <td>8755</td>\n",
              "      <td>7</td>\n",
              "      <td>5</td>\n",
              "      <td>1999</td>\n",
              "      <td>1999</td>\n",
              "      <td>298.0</td>\n",
              "      <td>772.0</td>\n",
              "      <td>0.0</td>\n",
              "      <td>220.0</td>\n",
              "      <td>992.0</td>\n",
              "      <td>1022</td>\n",
              "      <td>1038</td>\n",
              "      <td>0</td>\n",
              "      <td>2060</td>\n",
              "      <td>1.0</td>\n",
              "      <td>0.0</td>\n",
              "      <td>2</td>\n",
              "      <td>1</td>\n",
              "      <td>3</td>\n",
              "      <td>1</td>\n",
              "      <td>8</td>\n",
              "      <td>1</td>\n",
              "      <td>1999.0</td>\n",
              "      <td>2.0</td>\n",
              "      <td>390.0</td>\n",
              "      <td>0</td>\n",
              "      <td>0</td>\n",
              "      <td>0</td>\n",
              "      <td>168</td>\n",
              "      <td>0</td>\n",
              "      <td>0</td>\n",
              "      <td>0</td>\n",
              "      <td>6</td>\n",
              "      <td>2009</td>\n",
              "      <td>0</td>\n",
              "      <td>0</td>\n",
              "      <td>0</td>\n",
              "      <td>0</td>\n",
              "      <td>...</td>\n",
              "      <td>0</td>\n",
              "      <td>1</td>\n",
              "      <td>0</td>\n",
              "      <td>0</td>\n",
              "      <td>0</td>\n",
              "      <td>0</td>\n",
              "      <td>1</td>\n",
              "      <td>0</td>\n",
              "      <td>0</td>\n",
              "      <td>1</td>\n",
              "      <td>0</td>\n",
              "      <td>0</td>\n",
              "      <td>0</td>\n",
              "      <td>0</td>\n",
              "      <td>1</td>\n",
              "      <td>0</td>\n",
              "      <td>0</td>\n",
              "      <td>0</td>\n",
              "      <td>0</td>\n",
              "      <td>0</td>\n",
              "      <td>0</td>\n",
              "      <td>0</td>\n",
              "      <td>0</td>\n",
              "      <td>0</td>\n",
              "      <td>0</td>\n",
              "      <td>0</td>\n",
              "      <td>0</td>\n",
              "      <td>0</td>\n",
              "      <td>0</td>\n",
              "      <td>0</td>\n",
              "      <td>0</td>\n",
              "      <td>0</td>\n",
              "      <td>1</td>\n",
              "      <td>0</td>\n",
              "      <td>0</td>\n",
              "      <td>0</td>\n",
              "      <td>0</td>\n",
              "      <td>1</td>\n",
              "      <td>0</td>\n",
              "      <td>214000</td>\n",
              "    </tr>\n",
              "    <tr>\n",
              "      <th>2647</th>\n",
              "      <td>70</td>\n",
              "      <td>50.00000</td>\n",
              "      <td>9000</td>\n",
              "      <td>5</td>\n",
              "      <td>6</td>\n",
              "      <td>1880</td>\n",
              "      <td>1991</td>\n",
              "      <td>0.0</td>\n",
              "      <td>0.0</td>\n",
              "      <td>0.0</td>\n",
              "      <td>636.0</td>\n",
              "      <td>636.0</td>\n",
              "      <td>1089</td>\n",
              "      <td>661</td>\n",
              "      <td>0</td>\n",
              "      <td>1750</td>\n",
              "      <td>0.0</td>\n",
              "      <td>0.0</td>\n",
              "      <td>1</td>\n",
              "      <td>0</td>\n",
              "      <td>3</td>\n",
              "      <td>1</td>\n",
              "      <td>8</td>\n",
              "      <td>0</td>\n",
              "      <td>1937.0</td>\n",
              "      <td>1.0</td>\n",
              "      <td>240.0</td>\n",
              "      <td>0</td>\n",
              "      <td>0</td>\n",
              "      <td>293</td>\n",
              "      <td>0</td>\n",
              "      <td>0</td>\n",
              "      <td>0</td>\n",
              "      <td>0</td>\n",
              "      <td>6</td>\n",
              "      <td>2006</td>\n",
              "      <td>0</td>\n",
              "      <td>0</td>\n",
              "      <td>0</td>\n",
              "      <td>0</td>\n",
              "      <td>...</td>\n",
              "      <td>0</td>\n",
              "      <td>0</td>\n",
              "      <td>0</td>\n",
              "      <td>0</td>\n",
              "      <td>0</td>\n",
              "      <td>1</td>\n",
              "      <td>0</td>\n",
              "      <td>1</td>\n",
              "      <td>0</td>\n",
              "      <td>0</td>\n",
              "      <td>0</td>\n",
              "      <td>0</td>\n",
              "      <td>0</td>\n",
              "      <td>0</td>\n",
              "      <td>0</td>\n",
              "      <td>0</td>\n",
              "      <td>1</td>\n",
              "      <td>0</td>\n",
              "      <td>0</td>\n",
              "      <td>0</td>\n",
              "      <td>0</td>\n",
              "      <td>0</td>\n",
              "      <td>0</td>\n",
              "      <td>0</td>\n",
              "      <td>0</td>\n",
              "      <td>0</td>\n",
              "      <td>0</td>\n",
              "      <td>0</td>\n",
              "      <td>0</td>\n",
              "      <td>0</td>\n",
              "      <td>0</td>\n",
              "      <td>0</td>\n",
              "      <td>1</td>\n",
              "      <td>1</td>\n",
              "      <td>0</td>\n",
              "      <td>0</td>\n",
              "      <td>0</td>\n",
              "      <td>0</td>\n",
              "      <td>0</td>\n",
              "      <td>124000</td>\n",
              "    </tr>\n",
              "    <tr>\n",
              "      <th>1070</th>\n",
              "      <td>120</td>\n",
              "      <td>65.00000</td>\n",
              "      <td>8769</td>\n",
              "      <td>9</td>\n",
              "      <td>5</td>\n",
              "      <td>2008</td>\n",
              "      <td>2008</td>\n",
              "      <td>766.0</td>\n",
              "      <td>1540.0</td>\n",
              "      <td>0.0</td>\n",
              "      <td>162.0</td>\n",
              "      <td>1702.0</td>\n",
              "      <td>1702</td>\n",
              "      <td>0</td>\n",
              "      <td>0</td>\n",
              "      <td>1702</td>\n",
              "      <td>1.0</td>\n",
              "      <td>0.0</td>\n",
              "      <td>1</td>\n",
              "      <td>1</td>\n",
              "      <td>1</td>\n",
              "      <td>1</td>\n",
              "      <td>7</td>\n",
              "      <td>1</td>\n",
              "      <td>2008.0</td>\n",
              "      <td>3.0</td>\n",
              "      <td>1052.0</td>\n",
              "      <td>0</td>\n",
              "      <td>72</td>\n",
              "      <td>0</td>\n",
              "      <td>0</td>\n",
              "      <td>224</td>\n",
              "      <td>0</td>\n",
              "      <td>0</td>\n",
              "      <td>10</td>\n",
              "      <td>2008</td>\n",
              "      <td>0</td>\n",
              "      <td>0</td>\n",
              "      <td>0</td>\n",
              "      <td>0</td>\n",
              "      <td>...</td>\n",
              "      <td>0</td>\n",
              "      <td>1</td>\n",
              "      <td>0</td>\n",
              "      <td>0</td>\n",
              "      <td>0</td>\n",
              "      <td>0</td>\n",
              "      <td>1</td>\n",
              "      <td>0</td>\n",
              "      <td>0</td>\n",
              "      <td>1</td>\n",
              "      <td>0</td>\n",
              "      <td>0</td>\n",
              "      <td>0</td>\n",
              "      <td>0</td>\n",
              "      <td>0</td>\n",
              "      <td>0</td>\n",
              "      <td>0</td>\n",
              "      <td>0</td>\n",
              "      <td>0</td>\n",
              "      <td>0</td>\n",
              "      <td>0</td>\n",
              "      <td>0</td>\n",
              "      <td>0</td>\n",
              "      <td>0</td>\n",
              "      <td>0</td>\n",
              "      <td>0</td>\n",
              "      <td>0</td>\n",
              "      <td>0</td>\n",
              "      <td>0</td>\n",
              "      <td>1</td>\n",
              "      <td>0</td>\n",
              "      <td>0</td>\n",
              "      <td>0</td>\n",
              "      <td>0</td>\n",
              "      <td>0</td>\n",
              "      <td>0</td>\n",
              "      <td>0</td>\n",
              "      <td>0</td>\n",
              "      <td>1</td>\n",
              "      <td>367294</td>\n",
              "    </tr>\n",
              "    <tr>\n",
              "      <th>1621</th>\n",
              "      <td>80</td>\n",
              "      <td>69.22459</td>\n",
              "      <td>10147</td>\n",
              "      <td>6</td>\n",
              "      <td>5</td>\n",
              "      <td>1994</td>\n",
              "      <td>1994</td>\n",
              "      <td>32.0</td>\n",
              "      <td>186.0</td>\n",
              "      <td>0.0</td>\n",
              "      <td>206.0</td>\n",
              "      <td>392.0</td>\n",
              "      <td>924</td>\n",
              "      <td>770</td>\n",
              "      <td>0</td>\n",
              "      <td>1694</td>\n",
              "      <td>0.0</td>\n",
              "      <td>0.0</td>\n",
              "      <td>2</td>\n",
              "      <td>1</td>\n",
              "      <td>3</td>\n",
              "      <td>1</td>\n",
              "      <td>7</td>\n",
              "      <td>1</td>\n",
              "      <td>1994.0</td>\n",
              "      <td>2.0</td>\n",
              "      <td>398.0</td>\n",
              "      <td>256</td>\n",
              "      <td>64</td>\n",
              "      <td>0</td>\n",
              "      <td>0</td>\n",
              "      <td>0</td>\n",
              "      <td>0</td>\n",
              "      <td>0</td>\n",
              "      <td>3</td>\n",
              "      <td>2007</td>\n",
              "      <td>0</td>\n",
              "      <td>0</td>\n",
              "      <td>0</td>\n",
              "      <td>0</td>\n",
              "      <td>...</td>\n",
              "      <td>0</td>\n",
              "      <td>1</td>\n",
              "      <td>0</td>\n",
              "      <td>0</td>\n",
              "      <td>0</td>\n",
              "      <td>0</td>\n",
              "      <td>1</td>\n",
              "      <td>0</td>\n",
              "      <td>0</td>\n",
              "      <td>1</td>\n",
              "      <td>0</td>\n",
              "      <td>0</td>\n",
              "      <td>0</td>\n",
              "      <td>0</td>\n",
              "      <td>0</td>\n",
              "      <td>0</td>\n",
              "      <td>1</td>\n",
              "      <td>0</td>\n",
              "      <td>0</td>\n",
              "      <td>0</td>\n",
              "      <td>0</td>\n",
              "      <td>0</td>\n",
              "      <td>0</td>\n",
              "      <td>0</td>\n",
              "      <td>0</td>\n",
              "      <td>0</td>\n",
              "      <td>0</td>\n",
              "      <td>0</td>\n",
              "      <td>0</td>\n",
              "      <td>0</td>\n",
              "      <td>0</td>\n",
              "      <td>0</td>\n",
              "      <td>1</td>\n",
              "      <td>0</td>\n",
              "      <td>0</td>\n",
              "      <td>0</td>\n",
              "      <td>0</td>\n",
              "      <td>1</td>\n",
              "      <td>0</td>\n",
              "      <td>160000</td>\n",
              "    </tr>\n",
              "  </tbody>\n",
              "</table>\n",
              "<p>5 rows × 305 columns</p>\n",
              "</div>"
            ],
            "text/plain": [
              "      MS SubClass  Lot Frontage  ...  Sale Condition_Partial  SalesPrice\n",
              "1551           30      60.00000  ...                       0       99500\n",
              "492            60      69.22459  ...                       0      214000\n",
              "2647           70      50.00000  ...                       0      124000\n",
              "1070          120      65.00000  ...                       1      367294\n",
              "1621           80      69.22459  ...                       0      160000\n",
              "\n",
              "[5 rows x 305 columns]"
            ]
          },
          "metadata": {
            "tags": []
          },
          "execution_count": 1
        }
      ]
    },
    {
      "cell_type": "markdown",
      "metadata": {
        "id": "vHC8A8Io8oQG",
        "colab_type": "text"
      },
      "source": [
        "# \"Garage Area\" and \"SalesPrice\" features are selected to analyze."
      ]
    },
    {
      "cell_type": "code",
      "metadata": {
        "id": "pq6dFg6thq97",
        "colab_type": "code",
        "colab": {}
      },
      "source": [
        "new_df = df[[\"Garage Area\",\"SalesPrice\"]]  # code comes here"
      ],
      "execution_count": 0,
      "outputs": []
    },
    {
      "cell_type": "markdown",
      "metadata": {
        "id": "TpEvfXkM9r_2",
        "colab_type": "text"
      },
      "source": [
        "## Convert the data into numpy arrays of two variables, X and y."
      ]
    },
    {
      "cell_type": "code",
      "metadata": {
        "id": "e9CMMob_hzLe",
        "colab_type": "code",
        "outputId": "bb4f4b99-7fd7-4ba2-9ed0-5270930e0edf",
        "colab": {
          "base_uri": "https://localhost:8080/",
          "height": 50
        }
      },
      "source": [
        "X = np.array(new_df[[\"Garage Area\"]]) #code comes here\n",
        "y = np.array(new_df[[\"SalesPrice\"]])  #code comes here \n",
        "print(X.shape) # Vewing the shape of X\n",
        "print(y.shape) # Vewing the shape of y"
      ],
      "execution_count": 0,
      "outputs": [
        {
          "output_type": "stream",
          "text": [
            "(2930, 1)\n",
            "(2930, 1)\n"
          ],
          "name": "stdout"
        }
      ]
    },
    {
      "cell_type": "markdown",
      "metadata": {
        "id": "JjnOjQWL_HVv",
        "colab_type": "text"
      },
      "source": [
        "## Split train and test data with 0.2 ratio."
      ]
    },
    {
      "cell_type": "code",
      "metadata": {
        "id": "Qbhe6KTZaTqR",
        "colab_type": "code",
        "colab": {}
      },
      "source": [
        "from sklearn.model_selection import train_test_split\n",
        "# code comes here\n",
        "x_train,x_test,y_train,y_test = train_test_split(X,y,test_size = 0.2,random_state = 1)"
      ],
      "execution_count": 0,
      "outputs": []
    },
    {
      "cell_type": "markdown",
      "metadata": {
        "id": "l2d820kV_zO7",
        "colab_type": "text"
      },
      "source": [
        "# Linear Regression\n",
        "Train a linear regression."
      ]
    },
    {
      "cell_type": "code",
      "metadata": {
        "id": "XRb1ZUTbaoy0",
        "colab_type": "code",
        "outputId": "4fa37a3c-1c1f-4802-db04-853349c1ba81",
        "colab": {
          "base_uri": "https://localhost:8080/",
          "height": 34
        }
      },
      "source": [
        "from sklearn import linear_model \n",
        "\n",
        "# code comes here\n",
        "regressor = linear_model.LinearRegression()\n",
        "# code comes here\n",
        "regressor.fit(x_train,y_train) "
      ],
      "execution_count": 0,
      "outputs": [
        {
          "output_type": "execute_result",
          "data": {
            "text/plain": [
              "LinearRegression(copy_X=True, fit_intercept=True, n_jobs=None, normalize=False)"
            ]
          },
          "metadata": {
            "tags": []
          },
          "execution_count": 6
        }
      ]
    },
    {
      "cell_type": "markdown",
      "metadata": {
        "id": "v670cHDcAGwn",
        "colab_type": "text"
      },
      "source": [
        "## Calculate train and test R2."
      ]
    },
    {
      "cell_type": "code",
      "metadata": {
        "id": "YzG3jkxgaxL0",
        "colab_type": "code",
        "outputId": "7f2f7df4-8d2d-43d0-d0c3-1c0fe3862bd4",
        "colab": {
          "base_uri": "https://localhost:8080/",
          "height": 50
        }
      },
      "source": [
        "from sklearn.metrics import r2_score\n",
        "\n",
        "# code comes here\n",
        "x_pred = regressor.predict(x_train)\n",
        "print(\"Train:\", r2_score(y_train,x_pred))\n",
        "\n",
        "# code comes here\n",
        "y_pred = regressor.predict(x_test)\n",
        "print(\"Test:\", r2_score(y_test,y_pred))"
      ],
      "execution_count": 0,
      "outputs": [
        {
          "output_type": "stream",
          "text": [
            "Train: 0.4036140916008528\n",
            "Test: 0.4352323177438491\n"
          ],
          "name": "stdout"
        }
      ]
    },
    {
      "cell_type": "markdown",
      "metadata": {
        "id": "CuKDdtxSvH86",
        "colab_type": "text"
      },
      "source": [
        "## Print the bias and the slope."
      ]
    },
    {
      "cell_type": "code",
      "metadata": {
        "id": "Rqr6u4clvN7I",
        "colab_type": "code",
        "outputId": "f18274ae-9140-4374-a662-9e6096b988ee",
        "colab": {
          "base_uri": "https://localhost:8080/",
          "height": 50
        }
      },
      "source": [
        "print('Regressor coeffient or slope:',regressor.coef_[0][0])\n",
        "print('Interception point with axis:',regressor.intercept_[0])"
      ],
      "execution_count": 0,
      "outputs": [
        {
          "output_type": "stream",
          "text": [
            "Regressor coeffient or slope: 237.58546612392706\n",
            "Interception point with axis: 68779.89798972152\n"
          ],
          "name": "stdout"
        }
      ]
    },
    {
      "cell_type": "markdown",
      "metadata": {
        "id": "cWtykiPdCXyY",
        "colab_type": "text"
      },
      "source": [
        "## Plot the test set with scatter plot and add the linear regression model line.\n",
        "Remember linear regression recitation."
      ]
    },
    {
      "cell_type": "code",
      "metadata": {
        "id": "1I_pXHajCtbA",
        "colab_type": "code",
        "outputId": "734e1827-933e-4898-d5a2-36d53fd82a96",
        "colab": {
          "base_uri": "https://localhost:8080/",
          "height": 295
        }
      },
      "source": [
        "# Plot a graph with X_test vs y_test\n",
        "plt.scatter(x_test,y_test,color=\"green\")\n",
        "#print(x_test.shape)\n",
        "#print(y_test.shape)\n",
        "y_pred = regressor.predict(x_train)\n",
        "plt.plot(x_train,y_pred,color=\"red\",linewidth=3)\n",
        "#print(x_train.shape)\n",
        "#print(y_pred.shape)\n",
        "plt.title('Regression(Test Set)')\n",
        "plt.xlabel('Garage Area')\n",
        "plt.ylabel('Sales Price')\n",
        "plt.show()\n",
        "# Regressior line showing\n"
      ],
      "execution_count": 0,
      "outputs": [
        {
          "output_type": "display_data",
          "data": {
            "image/png": "[encoded data removed]",
            "text/plain": [
              "<Figure size 432x288 with 1 Axes>"
            ]
          },
          "metadata": {
            "tags": [],
            "needs_background": "light"
          }
        }
      ]
    },
    {
      "cell_type": "markdown",
      "metadata": {
        "id": "8I4MO2KALY7t",
        "colab_type": "text"
      },
      "source": [
        "# Multiple Linear Regression\n",
        "Select all features."
      ]
    },
    {
      "cell_type": "code",
      "metadata": {
        "id": "t05kOqWgM2jZ",
        "colab_type": "code",
        "outputId": "a5811161-ef4a-43b5-bfee-8bbe503ab796",
        "colab": {
          "base_uri": "https://localhost:8080/",
          "height": 50
        }
      },
      "source": [
        "X = np.array(df.iloc[:,:-1].values) # code comes here\n",
        "y = np.array(df.iloc[:,-1:].values)   # code comes here\n",
        "print(X.shape)       # Vewing the shape of X\n",
        "print(y.shape)       # Vewing the shape of y"
      ],
      "execution_count": 0,
      "outputs": [
        {
          "output_type": "stream",
          "text": [
            "(2930, 304)\n",
            "(2930, 1)\n"
          ],
          "name": "stdout"
        }
      ]
    },
    {
      "cell_type": "markdown",
      "metadata": {
        "id": "NOfkzavRNr_p",
        "colab_type": "text"
      },
      "source": [
        "## Rescale the input features. Use MinMaxScaler."
      ]
    },
    {
      "cell_type": "code",
      "metadata": {
        "id": "CgerTDdWN3ZV",
        "colab_type": "code",
        "colab": {}
      },
      "source": [
        "from sklearn.preprocessing import MinMaxScaler\n",
        "scaler = MinMaxScaler()\n",
        "X = scaler.fit_transform(X) #  code comes here"
      ],
      "execution_count": 0,
      "outputs": []
    },
    {
      "cell_type": "markdown",
      "metadata": {
        "id": "LPWhiLEQOJXV",
        "colab_type": "text"
      },
      "source": [
        "## Train test split."
      ]
    },
    {
      "cell_type": "code",
      "metadata": {
        "id": "hWHQsWD-OR0X",
        "colab_type": "code",
        "colab": {}
      },
      "source": [
        "x_train, x_test, y_train, y_test = train_test_split(X,y,test_size = 0.2, random_state = 0)# was 1"
      ],
      "execution_count": 0,
      "outputs": []
    },
    {
      "cell_type": "markdown",
      "metadata": {
        "id": "ta9ugqFEO-3h",
        "colab_type": "text"
      },
      "source": [
        "## Fit regression model."
      ]
    },
    {
      "cell_type": "code",
      "metadata": {
        "id": "tE3FFQAJOz45",
        "colab_type": "code",
        "outputId": "f82310a2-9248-4705-b6e6-e3ef22b2742a",
        "colab": {
          "base_uri": "https://localhost:8080/",
          "height": 34
        }
      },
      "source": [
        "# code comes here\n",
        "# code comes here\n",
        "regressor = linear_model.LinearRegression()\n",
        "# Fiting the dataset into the model\n",
        "regressor.fit(x_train,y_train) "
      ],
      "execution_count": 0,
      "outputs": [
        {
          "output_type": "execute_result",
          "data": {
            "text/plain": [
              "LinearRegression(copy_X=True, fit_intercept=True, n_jobs=None, normalize=False)"
            ]
          },
          "metadata": {
            "tags": []
          },
          "execution_count": 72
        }
      ]
    },
    {
      "cell_type": "markdown",
      "metadata": {
        "id": "ai5eB9elPNOY",
        "colab_type": "text"
      },
      "source": [
        "## Calculate train and test R2."
      ]
    },
    {
      "cell_type": "code",
      "metadata": {
        "id": "pbJWBEnRPOg_",
        "colab_type": "code",
        "outputId": "1bc93960-ad03-4a70-d57d-92f57e04f701",
        "colab": {
          "base_uri": "https://localhost:8080/",
          "height": 50
        }
      },
      "source": [
        "# code comes here\n",
        "x_pred = regressor.predict(x_train)\n",
        "print(\"Train:\", r2_score(y_train,x_pred))\n",
        "\n",
        "# code comes here\n",
        "y_pred = regressor.predict(x_test)\n",
        "print(\"Test:\", r2_score(y_test,y_pred))"
      ],
      "execution_count": 0,
      "outputs": [
        {
          "output_type": "stream",
          "text": [
            "Train: 0.943037793827781\n",
            "Test: -8.624046079362404e+18\n"
          ],
          "name": "stdout"
        }
      ]
    },
    {
      "cell_type": "markdown",
      "metadata": {
        "id": "iZTYM-76v__6",
        "colab_type": "text"
      },
      "source": [
        "## Print the regression coefficients."
      ]
    },
    {
      "cell_type": "code",
      "metadata": {
        "id": "tw10OFDUwDtY",
        "colab_type": "code",
        "outputId": "a3b85e41-2173-4dc6-c3ea-dcc2af653e42",
        "colab": {
          "base_uri": "https://localhost:8080/",
          "height": 1000
        }
      },
      "source": [
        "print('Regressor coeffients for multiple linear regression:', regressor.coef_[0]) "
      ],
      "execution_count": 0,
      "outputs": [
        {
          "output_type": "stream",
          "text": [
            "Regressor coeffients for multiple linear regression: [-6.16143364e+03  2.52717141e+03  1.28985401e+05  6.17142006e+04\n",
            "  4.80568808e+04  4.11215228e+04  3.59411591e+03  3.95993125e+04\n",
            " -2.16708190e+15 -5.85926112e+14 -8.96935385e+14  2.34600822e+15\n",
            " -1.56581113e+15 -6.79143035e+14 -3.49931326e+14  1.74571004e+15\n",
            "  2.21047166e+03 -5.04361678e+03  1.70746438e+04  4.99687074e+03\n",
            " -3.58923590e+04 -5.17516200e+04  1.49878076e+04  3.40462934e+04\n",
            "  1.08907499e+04  1.67972144e+04  2.64127044e+04  1.08575386e+04\n",
            " -7.66197968e+03 -5.07445071e+03 -1.14140527e+04  2.38318799e+04\n",
            "  9.12120085e+03 -2.07558408e+04 -1.52824219e+03 -2.89031250e+03\n",
            " -1.11960262e+15 -1.11960262e+15 -1.11960262e+15 -1.11960262e+15\n",
            " -1.11960262e+15 -1.11960262e+15 -1.11960262e+15  7.14978461e+14\n",
            "  7.14978461e+14 -6.12562500e+02 -2.80484375e+03  1.75493945e+15\n",
            "  1.75493945e+15  1.75493945e+15  1.75493945e+15  1.93281398e+14\n",
            "  1.93281398e+14  1.93281398e+14  1.93281398e+14 -4.70618917e+14\n",
            " -4.70618917e+14 -4.70618917e+14 -2.09894509e+15 -2.09894509e+15\n",
            " -2.09894509e+15 -2.09894509e+15 -2.09894509e+15 -1.92519606e+15\n",
            " -1.92519606e+15 -1.92519606e+15 -1.74506977e+12 -1.74506976e+12\n",
            " -1.74506977e+12 -1.74506978e+12 -1.74506979e+12 -1.74506978e+12\n",
            " -1.74506977e+12 -1.74506979e+12 -1.74506978e+12 -1.74506977e+12\n",
            " -1.74506967e+12 -1.74506978e+12 -1.74506978e+12 -1.74506977e+12\n",
            " -1.74506979e+12 -1.74506979e+12 -1.74506975e+12 -1.74506979e+12\n",
            " -1.74506975e+12 -1.74506976e+12 -1.74506979e+12 -1.74506978e+12\n",
            " -1.74506978e+12 -1.74506978e+12 -1.74506976e+12 -1.74506973e+12\n",
            " -1.74506978e+12 -1.74506978e+12 -4.26543254e+14 -4.26543254e+14\n",
            " -4.26543254e+14 -4.26543254e+14 -4.26543254e+14 -4.26543254e+14\n",
            " -4.26543254e+14 -4.26543254e+14 -4.26543254e+14 -9.28250000e+13\n",
            " -9.28250000e+13 -9.28250000e+13 -9.28250000e+13 -9.28250001e+13\n",
            " -9.28250001e+13 -9.28250000e+13 -9.28250000e+13  8.69958127e+14\n",
            "  8.69958127e+14  8.69958127e+14  8.69958127e+14  8.69958127e+14\n",
            " -1.75885775e+15 -1.75885775e+15 -1.75885775e+15 -1.75885775e+15\n",
            " -1.75885775e+15 -1.75885775e+15 -1.75885775e+15 -1.75885775e+15\n",
            "  5.23432380e+14  5.23432380e+14  5.23432380e+14  5.23432380e+14\n",
            "  5.23432380e+14  5.23432380e+14 -9.27163260e+13 -9.27163253e+13\n",
            " -9.27163253e+13 -9.27163253e+13 -9.27163253e+13 -9.27163253e+13\n",
            " -9.27163253e+13 -9.27163253e+13 -9.14636514e+14 -9.14636515e+14\n",
            " -9.14636514e+14 -9.14636514e+14 -9.14636515e+14 -9.14636514e+14\n",
            " -9.14636515e+14 -9.14636515e+14 -9.14636514e+14 -9.14636515e+14\n",
            " -1.22633137e+15 -9.14636515e+14 -9.14636514e+14 -9.14636515e+14\n",
            " -9.14636515e+14 -9.14636515e+14 -1.44400989e+15 -1.44400989e+15\n",
            " -1.44400989e+15 -1.44400989e+15 -1.44400989e+15 -1.44400989e+15\n",
            " -1.44400989e+15 -1.44400989e+15 -1.44400989e+15 -1.44400989e+15\n",
            " -1.44400989e+15 -1.13231503e+15 -1.44400989e+15 -1.44400989e+15\n",
            " -1.44400989e+15 -1.44400989e+15 -1.44400989e+15 -6.46602637e+03\n",
            " -8.82875000e+02 -1.09120346e+05  4.35787500e+03  4.99984375e+03\n",
            " -5.45589873e+15 -5.45589873e+15 -5.45589873e+15 -5.45589873e+15\n",
            " -6.16233791e+14 -6.16233791e+14 -6.16233791e+14 -6.16233791e+14\n",
            " -6.16233791e+14  2.22980520e+15  2.22980520e+15  2.22980520e+15\n",
            "  2.22980520e+15  2.22980520e+15  2.22980520e+15 -2.31394381e+15\n",
            " -2.31394381e+15 -2.31394381e+15 -2.31394381e+15 -2.31394381e+15\n",
            " -8.04465854e+14 -8.04465854e+14 -8.04465854e+14 -8.04465854e+14\n",
            " -8.04465854e+14  1.11975625e+04  2.10573750e+04  5.49582812e+03\n",
            "  5.92362500e+03  3.11840967e+15  3.11840967e+15  3.11840967e+15\n",
            "  3.11840967e+15  3.11840967e+15  3.11840967e+15  2.67898398e+04\n",
            "  2.05632500e+04  3.27622031e+04  1.85650312e+04  2.01366562e+04\n",
            "  2.55960938e+04 -4.27385116e+14 -4.27385116e+14 -4.27385116e+14\n",
            " -4.27385116e+14 -4.27385116e+14 -4.27385116e+14 -6.29985678e+15\n",
            " -6.29985678e+15 -6.29985678e+15 -6.29985678e+15 -6.29985678e+15\n",
            " -1.04305207e+15 -1.04305207e+15 -1.04540469e+04 -1.36231875e+04\n",
            " -1.55114766e+04 -6.10209473e+03 -1.18646250e+04  1.03329479e+15\n",
            "  1.03329479e+15  1.03329479e+15  1.03329479e+15  1.03329479e+15\n",
            "  8.50540850e+14  8.50540850e+14  8.50540850e+14  8.50540850e+14\n",
            "  8.50540850e+14  8.50540849e+14  8.50540849e+14  8.50540850e+14\n",
            " -5.33379688e+03 -1.05416094e+04 -8.08606250e+03 -2.54741406e+03\n",
            " -7.36787500e+03 -2.63668750e+04 -1.83721250e+04 -1.28552188e+04\n",
            " -2.02449375e+04 -2.29277344e+04 -1.78088125e+04  2.66585584e+15\n",
            "  2.66585584e+15  2.66585584e+15  1.25867506e+15  1.25867506e+15\n",
            "  1.25867506e+15  1.25867506e+15  1.25867506e+15 -3.92453090e+15\n",
            " -3.92453090e+15 -3.92453090e+15 -3.92453090e+15 -3.92453090e+15\n",
            "  7.23539823e+14  7.23539823e+14  7.23539823e+14  7.98948027e+04\n",
            "  2.23863018e+04  1.83971689e+04 -1.51224375e+04 -3.41300000e+03\n",
            "  1.35462500e+03  2.18062500e+03 -1.65885352e+03 -5.00987496e+05\n",
            "  2.34482334e+04  3.92131953e+04  3.68646875e+03 -5.87464150e+04\n",
            " -1.41392332e+14 -1.41392332e+14 -1.41392332e+14 -1.41392332e+14\n",
            " -1.41392332e+14 -1.41392332e+14 -1.41392332e+14 -1.41392332e+14\n",
            " -1.41392332e+14 -1.41392332e+14  1.81144720e+15  1.81144720e+15\n",
            "  1.81144720e+15  1.81144720e+15  1.81144720e+15  1.81144720e+15]\n"
          ],
          "name": "stdout"
        }
      ]
    },
    {
      "cell_type": "markdown",
      "metadata": {
        "id": "PtwgWJvwQfo-",
        "colab_type": "text"
      },
      "source": [
        "# Ridge Regression\n",
        "https://scikit-learn.org/stable/modules/generated/sklearn.model_selection.KFold.html\n",
        "\n",
        "https://scikit-learn.org/stable/modules/generated/sklearn.linear_model.RidgeCV.html\n",
        "\n",
        "## Use cross-validation to estimate alpha. Set the fold size to 5."
      ]
    },
    {
      "cell_type": "code",
      "metadata": {
        "id": "niasM1bHSO0r",
        "colab_type": "code",
        "colab": {}
      },
      "source": [
        "from sklearn.model_selection import KFold\n",
        "from sklearn.linear_model import RidgeCV\n",
        "kfold = KFold(n_splits=5, shuffle=False, random_state=None) # code comes here\n",
        "\n",
        "alphas=[1e-3, 1e-2, 1e-1, 1, 2, 5, 8, 10]\n",
        "model_rcv = RidgeCV(alphas = alphas, cv = kfold).fit(x_train,y_train)\n",
        "\n",
        "# scores = []\n",
        "# for train_index, test_index in kfold.split(X):\n",
        "#   #print(\"TRAIN:\", train_index, \"TEST:\", test_index)\n",
        "#   X_train_fold, X_test_fold = X[train_index], X[test_index]\n",
        "#   y_train_fold, y_test_fold = y[train_index], y[test_index]\n",
        "#   model_rcv = RidgeCV(alphas).fit(X_train_fold,y_train_fold)\n",
        "#   #scores.append(model_rcv.score(X_train_fold,y_train_fold))\n",
        "#   scores.append(model_rcv.alpha_)\n",
        "\n",
        "# print(scores)\n",
        "#print(scores)\n",
        "#best_index = scores.index(max(scores))\n",
        "\n",
        "# Create and fit model\n",
        "# code comes here\n",
        "# code comes here"
      ],
      "execution_count": 0,
      "outputs": []
    },
    {
      "cell_type": "markdown",
      "metadata": {
        "id": "WuXiTAzbTw-E",
        "colab_type": "text"
      },
      "source": [
        "## Calculate the train and test R2."
      ]
    },
    {
      "cell_type": "code",
      "metadata": {
        "id": "uljtYcwlUasT",
        "colab_type": "code",
        "outputId": "41bcd67f-d073-4ffa-bd48-9b26bfa561c2",
        "colab": {
          "base_uri": "https://localhost:8080/",
          "height": 50
        }
      },
      "source": [
        "# code comes here\n",
        "import statistics \n",
        "from statistics import mode\n",
        "#model_rcv = RidgeCV([mode(scores)]).fit(x_train,y_train)\n",
        "x_pred = model_rcv.predict(x_train)\n",
        "print(\"Train:\", r2_score(y_train,x_pred))\n",
        "\n",
        "# code comes here\n",
        "y_pred = model_rcv.predict(x_test)\n",
        "print(\"Test:\", r2_score(y_test,y_pred))"
      ],
      "execution_count": 0,
      "outputs": [
        {
          "output_type": "stream",
          "text": [
            "Train: 0.9211536946303333\n",
            "Test: 0.841271168982664\n"
          ],
          "name": "stdout"
        }
      ]
    },
    {
      "cell_type": "markdown",
      "metadata": {
        "id": "h8tDKPJHUkuG",
        "colab_type": "text"
      },
      "source": [
        "## Print the best alpha."
      ]
    },
    {
      "cell_type": "code",
      "metadata": {
        "id": "1EUQMEgnUr0k",
        "colab_type": "code",
        "outputId": "d6a7fcc5-c38a-4a47-ae05-58eefe695497",
        "colab": {
          "base_uri": "https://localhost:8080/",
          "height": 34
        }
      },
      "source": [
        "print(\"Alpha:\", model_rcv.alpha_) #was mode(scores)"
      ],
      "execution_count": 0,
      "outputs": [
        {
          "output_type": "stream",
          "text": [
            "Alpha: 5.0\n"
          ],
          "name": "stdout"
        }
      ]
    },
    {
      "cell_type": "markdown",
      "metadata": {
        "id": "hK4tYYscvyJG",
        "colab_type": "text"
      },
      "source": [
        "## Print the regression coefficients."
      ]
    },
    {
      "cell_type": "code",
      "metadata": {
        "id": "KBcaia_5v5fF",
        "colab_type": "code",
        "outputId": "7120be14-0cec-4b9c-ba3a-230fa425c24f",
        "colab": {
          "base_uri": "https://localhost:8080/",
          "height": 1000
        }
      },
      "source": [
        "print('Regressor coeffients for ridge regression:',model_rcv.coef_[0])# code comes here"
      ],
      "execution_count": 0,
      "outputs": [
        {
          "output_type": "stream",
          "text": [
            "Regressor coeffients for ridge regression: [-8.94952386e+03  3.35550041e+03  3.04846534e+04  6.68498722e+04\n",
            "  3.05615859e+04  1.75659684e+04  4.93787974e+03  4.16958358e+04\n",
            "  4.44751522e+04  1.11670034e+04  3.85290916e+03  4.53451722e+04\n",
            "  6.94857589e+04  4.92754654e+04  5.11296997e+03  8.25199198e+04\n",
            "  1.88330356e+04  2.74594773e+03  2.70704980e+04  1.00103564e+04\n",
            " -6.87684290e+03 -1.11986756e+04  2.71132357e+04  3.43808528e+04\n",
            "  2.93306543e+03  3.02124218e+04  2.16554029e+04  1.38166376e+04\n",
            "  2.17693238e+03  5.21428789e+03  2.05788887e+03  2.38469165e+04\n",
            "  4.64894464e+03  3.37674364e+03 -2.70177469e+03 -4.22464990e+03\n",
            " -2.74176134e+03 -6.17726657e+03  3.00246759e+03  2.10882728e+03\n",
            "  3.78362835e+03  2.14302179e+03 -2.11891710e+03 -3.96240197e+03\n",
            "  3.96240197e+03 -4.74760984e+02 -9.33829604e+02  2.01049257e+03\n",
            "  8.69345341e+03 -1.16151924e+04  9.11246444e+02 -6.35354146e+03\n",
            "  6.09403042e+03  5.62294689e+02 -3.02783655e+02  5.73874039e+03\n",
            " -3.73370108e+03 -2.00503931e+03  9.30400381e+01  6.46626747e+03\n",
            " -3.18817549e+03 -4.41182244e+03  1.04069042e+03 -3.12590312e+02\n",
            "  2.77317659e+03 -2.46058628e+03 -5.37933017e+03  2.59292022e+03\n",
            "  3.17546524e+03 -3.53662164e+03 -4.33426061e+03 -9.11769969e+03\n",
            "  9.13271524e+03 -1.33849262e+04 -1.17402374e+04 -2.73621149e+02\n",
            "  2.37741580e+04 -8.03621921e+03  0.00000000e+00 -6.47099547e+03\n",
            " -1.04700890e+04 -1.24580361e+04  5.73668965e+03 -1.05674868e+04\n",
            "  3.63384770e+04  1.73644289e+04 -1.20076956e+04 -1.02034098e+04\n",
            " -8.05021853e+03 -7.28549716e+03  7.25552390e+03  3.11994417e+04\n",
            " -5.03746683e+03  1.78399134e+03 -3.96444132e+03 -5.72552108e+03\n",
            "  5.07761271e+03  1.11772700e+04  1.11351101e+04 -6.28485608e+03\n",
            " -7.38240289e+02 -3.07927174e+03 -7.59766236e+03 -3.53058602e+03\n",
            " -5.47526962e+03 -8.79273695e+03  2.03719229e+04  7.77854195e+02\n",
            " -2.32631251e+03  8.00254855e+01 -1.10489748e+03  1.34663139e+04\n",
            "  5.86925722e+03 -2.67302231e+03 -1.16759541e+04 -4.98659462e+03\n",
            " -1.60456369e+03  2.54488969e+03  5.05824613e+03  1.86339020e+03\n",
            " -2.12665512e+02 -5.03248649e+03  8.86768607e+02 -3.50357893e+03\n",
            " -2.73579568e+03  3.55163305e+03  3.30156563e+03  5.52349058e+03\n",
            " -8.30831771e+03 -1.33257588e+03 -6.04019143e+04  5.61654798e+03\n",
            "  5.31356466e+03  1.09265351e+03  0.00000000e+00  1.07577872e+03\n",
            "  6.19723125e+03  4.11061381e+04 -3.70533985e+03 -7.60242658e+02\n",
            "  5.13971311e+03  1.90906718e+04  7.42500043e+02 -1.75805216e+03\n",
            " -6.26940024e+03 -4.57897095e+03 -2.48263552e+02 -2.13412642e+03\n",
            "  1.08409018e+04  2.78751994e+03 -7.49881424e+03 -4.79961891e+03\n",
            " -3.65164025e+03 -3.19683739e+03 -2.04582588e+03  2.36764971e+03\n",
            " -2.22607172e+03 -5.72494155e+03 -3.54545737e+03  5.30159134e+03\n",
            "  6.07705581e+02  1.35582833e+04 -1.61574783e+03  0.00000000e+00\n",
            " -3.01415510e+03  1.08409018e+04 -5.88367964e+03 -9.56798303e+03\n",
            "  3.48445521e+03 -3.68750377e+02 -2.16797444e+03 -3.07368268e+03\n",
            "  3.31283945e+03 -4.73141716e+03  7.35981406e+03  7.02197464e+03\n",
            "  2.13691230e+04 -4.41751798e+03 -5.68121665e+03 -1.12703884e+04\n",
            " -6.95916168e+02 -5.69091404e+02  2.44088587e+03 -4.67426208e+03\n",
            "  3.49838378e+03 -6.98554210e+02  1.04404304e+03  2.48266220e+03\n",
            " -2.75845389e+03  3.06406116e+03 -3.13375830e+03  1.54378134e+04\n",
            " -9.17716326e+02 -2.84141448e+03  8.04929773e+02 -3.58026381e+03\n",
            "  8.48180788e+02  1.30308013e+03  2.21576172e+03  2.22338739e+03\n",
            "  2.31293853e+03  2.91329555e+03  1.80189533e+04 -3.62400459e+03\n",
            " -4.40013050e+03  3.26671519e+03  1.63375594e+03  6.29296186e+03\n",
            " -1.94858747e+03  4.71092036e+02 -8.12588996e+02  5.30595009e+03\n",
            " -2.01389442e+03  7.31876911e+03 -3.12759187e+03 -1.21607504e+03\n",
            "  1.94653733e+03 -4.90107391e+02 -1.37207871e+03  5.36896607e+03\n",
            " -2.12316837e+03 -3.22018600e+03  1.83657440e+03  5.10699645e+03\n",
            " -2.21697240e+03  2.19588004e+03 -6.03536727e+03  9.49463174e+02\n",
            "  3.47084071e+01 -3.47084071e+01 -2.10779029e+03 -6.33741820e+02\n",
            "  1.38469270e+03  8.19591340e+02 -1.46668306e+03  1.77909167e+04\n",
            " -6.92430189e+03 -5.67300930e+03  2.23382149e+03 -7.42742696e+03\n",
            " -2.60722455e+03 -4.01965845e+03  4.02378841e+03  2.06983646e+03\n",
            " -7.22122328e+02 -4.52943960e+03 -4.41604589e+03  1.02008659e+04\n",
            "  1.09739958e+04 -8.11881759e+03 -2.22573872e+03 -3.16648323e+03\n",
            " -2.03693282e+03 -8.34780172e+03  7.71879291e+02  8.92508657e+02\n",
            "  4.80090837e+02 -1.92277922e+03 -1.41292664e+03 -7.39991236e+02\n",
            " -4.81126765e+03 -8.28140716e+02  1.30549527e+04 -9.58191513e+03\n",
            "  4.88367846e+03 -5.60909180e+03 -9.12702378e+03 -8.43603091e+03\n",
            "  2.10096268e+03 -4.21616831e+03 -1.85433858e+03  6.02617552e+03\n",
            "  2.27687416e+02 -1.30329726e+03  1.07560984e+03  5.03079641e+04\n",
            " -2.06868973e+02 -4.43702785e+04  6.46345539e+03  1.42240031e+03\n",
            "  3.99236500e+02  1.82690246e+03  8.07155778e+02  0.00000000e+00\n",
            "  2.28598227e+03  7.19627124e+03 -4.40979983e+00 -3.65509257e+03\n",
            " -5.29635064e+03  4.55550492e+03  1.05582488e+04 -3.03020210e+03\n",
            " -3.44531675e+03 -9.19815282e+02  5.01473210e+03 -1.22877877e+03\n",
            " -1.84918807e+03 -4.35883421e+03 -7.21813341e+03  6.51230699e+03\n",
            "  6.08058750e+03 -9.28416861e+03  2.27682362e+03  1.63258391e+03]\n"
          ],
          "name": "stdout"
        }
      ]
    }
  ]
}